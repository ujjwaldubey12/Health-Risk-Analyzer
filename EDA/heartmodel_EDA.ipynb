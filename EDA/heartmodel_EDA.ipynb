{
  "cells": [
    {
      "cell_type": "code",
      "execution_count": null,
      "id": "f86e851a",
      "metadata": {
        "id": "f86e851a"
      },
      "outputs": [],
      "source": [
        "\n"
      ]
    },
    {
      "cell_type": "code",
      "execution_count": null,
      "id": "b362ede7",
      "metadata": {
        "colab": {
          "base_uri": "https://localhost:8080/"
        },
        "id": "b362ede7",
        "outputId": "7430b09a-4214-41c5-caf6-84a3c594b990"
      },
      "outputs": [
        {
          "output_type": "stream",
          "name": "stdout",
          "text": [
            "Epoch 1/70\n",
            "37/37 [==============================] - 1s 7ms/step - loss: 0.5094 - accuracy: 0.7700 - val_loss: 0.4368 - val_accuracy: 0.8299\n",
            "Epoch 2/70\n",
            "37/37 [==============================] - 0s 3ms/step - loss: 0.3636 - accuracy: 0.8637 - val_loss: 0.3975 - val_accuracy: 0.8367\n",
            "Epoch 3/70\n",
            "37/37 [==============================] - 0s 3ms/step - loss: 0.3251 - accuracy: 0.8705 - val_loss: 0.3893 - val_accuracy: 0.8503\n",
            "Epoch 4/70\n",
            "37/37 [==============================] - 0s 3ms/step - loss: 0.3080 - accuracy: 0.8773 - val_loss: 0.3760 - val_accuracy: 0.8503\n",
            "Epoch 5/70\n",
            "37/37 [==============================] - 0s 3ms/step - loss: 0.2939 - accuracy: 0.8773 - val_loss: 0.3743 - val_accuracy: 0.8503\n",
            "Epoch 6/70\n",
            "37/37 [==============================] - 0s 3ms/step - loss: 0.2850 - accuracy: 0.8859 - val_loss: 0.3736 - val_accuracy: 0.8571\n",
            "Epoch 7/70\n",
            "37/37 [==============================] - 0s 2ms/step - loss: 0.2764 - accuracy: 0.8859 - val_loss: 0.3692 - val_accuracy: 0.8367\n",
            "Epoch 8/70\n",
            "37/37 [==============================] - 0s 2ms/step - loss: 0.2691 - accuracy: 0.8927 - val_loss: 0.3771 - val_accuracy: 0.8367\n",
            "Epoch 9/70\n",
            "37/37 [==============================] - 0s 2ms/step - loss: 0.2634 - accuracy: 0.8910 - val_loss: 0.3704 - val_accuracy: 0.8367\n",
            "Epoch 10/70\n",
            "37/37 [==============================] - 0s 2ms/step - loss: 0.2573 - accuracy: 0.8961 - val_loss: 0.3713 - val_accuracy: 0.8299\n",
            "Epoch 11/70\n",
            "37/37 [==============================] - 0s 2ms/step - loss: 0.2507 - accuracy: 0.8995 - val_loss: 0.3710 - val_accuracy: 0.8367\n",
            "Epoch 12/70\n",
            "37/37 [==============================] - 0s 2ms/step - loss: 0.2439 - accuracy: 0.9012 - val_loss: 0.3753 - val_accuracy: 0.8435\n",
            "Epoch 13/70\n",
            "37/37 [==============================] - 0s 2ms/step - loss: 0.2391 - accuracy: 0.9029 - val_loss: 0.3747 - val_accuracy: 0.8367\n",
            "Epoch 14/70\n",
            "37/37 [==============================] - 0s 2ms/step - loss: 0.2341 - accuracy: 0.9012 - val_loss: 0.3871 - val_accuracy: 0.8435\n",
            "Epoch 15/70\n",
            "37/37 [==============================] - 0s 2ms/step - loss: 0.2280 - accuracy: 0.9012 - val_loss: 0.3865 - val_accuracy: 0.8435\n",
            "Epoch 16/70\n",
            "37/37 [==============================] - 0s 2ms/step - loss: 0.2229 - accuracy: 0.9063 - val_loss: 0.3835 - val_accuracy: 0.8367\n",
            "Epoch 17/70\n",
            "37/37 [==============================] - 0s 2ms/step - loss: 0.2178 - accuracy: 0.9029 - val_loss: 0.3793 - val_accuracy: 0.8367\n",
            "Epoch 18/70\n",
            "37/37 [==============================] - 0s 2ms/step - loss: 0.2140 - accuracy: 0.9131 - val_loss: 0.3851 - val_accuracy: 0.8571\n",
            "Epoch 19/70\n",
            "37/37 [==============================] - 0s 2ms/step - loss: 0.2098 - accuracy: 0.9046 - val_loss: 0.3866 - val_accuracy: 0.8503\n",
            "Epoch 20/70\n",
            "37/37 [==============================] - 0s 2ms/step - loss: 0.2010 - accuracy: 0.9046 - val_loss: 0.3918 - val_accuracy: 0.8503\n",
            "Epoch 21/70\n",
            "37/37 [==============================] - 0s 2ms/step - loss: 0.1983 - accuracy: 0.9165 - val_loss: 0.3976 - val_accuracy: 0.8571\n",
            "Epoch 22/70\n",
            "37/37 [==============================] - 0s 2ms/step - loss: 0.1904 - accuracy: 0.9097 - val_loss: 0.3958 - val_accuracy: 0.8435\n",
            "Epoch 23/70\n",
            "37/37 [==============================] - 0s 2ms/step - loss: 0.1865 - accuracy: 0.9182 - val_loss: 0.4042 - val_accuracy: 0.8367\n",
            "Epoch 24/70\n",
            "37/37 [==============================] - 0s 2ms/step - loss: 0.1817 - accuracy: 0.9182 - val_loss: 0.4287 - val_accuracy: 0.8435\n",
            "Epoch 25/70\n",
            "37/37 [==============================] - 0s 2ms/step - loss: 0.1777 - accuracy: 0.9182 - val_loss: 0.4165 - val_accuracy: 0.8435\n",
            "Epoch 26/70\n",
            "37/37 [==============================] - 0s 2ms/step - loss: 0.1757 - accuracy: 0.9233 - val_loss: 0.4174 - val_accuracy: 0.8299\n",
            "Epoch 27/70\n",
            "37/37 [==============================] - 0s 2ms/step - loss: 0.1679 - accuracy: 0.9250 - val_loss: 0.4167 - val_accuracy: 0.8435\n",
            "Epoch 28/70\n",
            "37/37 [==============================] - 0s 2ms/step - loss: 0.1642 - accuracy: 0.9302 - val_loss: 0.4403 - val_accuracy: 0.8367\n",
            "Epoch 29/70\n",
            "37/37 [==============================] - 0s 2ms/step - loss: 0.1576 - accuracy: 0.9387 - val_loss: 0.4409 - val_accuracy: 0.8367\n",
            "Epoch 30/70\n",
            "37/37 [==============================] - 0s 2ms/step - loss: 0.1525 - accuracy: 0.9404 - val_loss: 0.4615 - val_accuracy: 0.8299\n",
            "Epoch 31/70\n",
            "37/37 [==============================] - 0s 2ms/step - loss: 0.1477 - accuracy: 0.9455 - val_loss: 0.4578 - val_accuracy: 0.8367\n",
            "Epoch 32/70\n",
            "37/37 [==============================] - 0s 2ms/step - loss: 0.1458 - accuracy: 0.9404 - val_loss: 0.4742 - val_accuracy: 0.8435\n",
            "Epoch 33/70\n",
            "37/37 [==============================] - 0s 2ms/step - loss: 0.1410 - accuracy: 0.9438 - val_loss: 0.4911 - val_accuracy: 0.8299\n",
            "Epoch 34/70\n",
            "37/37 [==============================] - 0s 2ms/step - loss: 0.1381 - accuracy: 0.9438 - val_loss: 0.4773 - val_accuracy: 0.8163\n",
            "Epoch 35/70\n",
            "37/37 [==============================] - 0s 2ms/step - loss: 0.1327 - accuracy: 0.9472 - val_loss: 0.4912 - val_accuracy: 0.8299\n",
            "Epoch 36/70\n",
            "37/37 [==============================] - 0s 2ms/step - loss: 0.1268 - accuracy: 0.9523 - val_loss: 0.5120 - val_accuracy: 0.8299\n",
            "Epoch 37/70\n",
            "37/37 [==============================] - 0s 2ms/step - loss: 0.1227 - accuracy: 0.9472 - val_loss: 0.4952 - val_accuracy: 0.8299\n",
            "Epoch 38/70\n",
            "37/37 [==============================] - 0s 2ms/step - loss: 0.1193 - accuracy: 0.9523 - val_loss: 0.5046 - val_accuracy: 0.8163\n",
            "Epoch 39/70\n",
            "37/37 [==============================] - 0s 2ms/step - loss: 0.1175 - accuracy: 0.9574 - val_loss: 0.5536 - val_accuracy: 0.8027\n",
            "Epoch 40/70\n",
            "37/37 [==============================] - 0s 2ms/step - loss: 0.1111 - accuracy: 0.9625 - val_loss: 0.5460 - val_accuracy: 0.8163\n",
            "Epoch 41/70\n",
            "37/37 [==============================] - 0s 2ms/step - loss: 0.1084 - accuracy: 0.9591 - val_loss: 0.5413 - val_accuracy: 0.8231\n",
            "Epoch 42/70\n",
            "37/37 [==============================] - 0s 2ms/step - loss: 0.1037 - accuracy: 0.9659 - val_loss: 0.5486 - val_accuracy: 0.8163\n",
            "Epoch 43/70\n",
            "37/37 [==============================] - 0s 2ms/step - loss: 0.0993 - accuracy: 0.9710 - val_loss: 0.5797 - val_accuracy: 0.8231\n",
            "Epoch 44/70\n",
            "37/37 [==============================] - 0s 2ms/step - loss: 0.0964 - accuracy: 0.9642 - val_loss: 0.5949 - val_accuracy: 0.8095\n",
            "Epoch 45/70\n",
            "37/37 [==============================] - 0s 2ms/step - loss: 0.0933 - accuracy: 0.9710 - val_loss: 0.5814 - val_accuracy: 0.8095\n",
            "Epoch 46/70\n",
            "37/37 [==============================] - 0s 2ms/step - loss: 0.0884 - accuracy: 0.9727 - val_loss: 0.6228 - val_accuracy: 0.8027\n",
            "Epoch 47/70\n",
            "37/37 [==============================] - 0s 2ms/step - loss: 0.0924 - accuracy: 0.9727 - val_loss: 0.5988 - val_accuracy: 0.8027\n",
            "Epoch 48/70\n",
            "37/37 [==============================] - 0s 2ms/step - loss: 0.0898 - accuracy: 0.9676 - val_loss: 0.5978 - val_accuracy: 0.8027\n",
            "Epoch 49/70\n",
            "37/37 [==============================] - 0s 2ms/step - loss: 0.0839 - accuracy: 0.9744 - val_loss: 0.6125 - val_accuracy: 0.8095\n",
            "Epoch 50/70\n",
            "37/37 [==============================] - 0s 2ms/step - loss: 0.0833 - accuracy: 0.9710 - val_loss: 0.6491 - val_accuracy: 0.8027\n",
            "Epoch 51/70\n",
            "37/37 [==============================] - 0s 2ms/step - loss: 0.0778 - accuracy: 0.9744 - val_loss: 0.6337 - val_accuracy: 0.7891\n",
            "Epoch 52/70\n",
            "37/37 [==============================] - 0s 2ms/step - loss: 0.0762 - accuracy: 0.9796 - val_loss: 0.6849 - val_accuracy: 0.7959\n",
            "Epoch 53/70\n",
            "37/37 [==============================] - 0s 2ms/step - loss: 0.0732 - accuracy: 0.9796 - val_loss: 0.6757 - val_accuracy: 0.7959\n",
            "Epoch 54/70\n",
            "37/37 [==============================] - 0s 2ms/step - loss: 0.0696 - accuracy: 0.9761 - val_loss: 0.6881 - val_accuracy: 0.7891\n",
            "Epoch 55/70\n",
            "37/37 [==============================] - 0s 2ms/step - loss: 0.0671 - accuracy: 0.9813 - val_loss: 0.6890 - val_accuracy: 0.7959\n",
            "Epoch 56/70\n",
            "37/37 [==============================] - 0s 2ms/step - loss: 0.0655 - accuracy: 0.9864 - val_loss: 0.7010 - val_accuracy: 0.7891\n",
            "Epoch 57/70\n",
            "37/37 [==============================] - 0s 2ms/step - loss: 0.0648 - accuracy: 0.9830 - val_loss: 0.7295 - val_accuracy: 0.7755\n",
            "Epoch 58/70\n",
            "37/37 [==============================] - 0s 2ms/step - loss: 0.0635 - accuracy: 0.9830 - val_loss: 0.7062 - val_accuracy: 0.7891\n",
            "Epoch 59/70\n",
            "37/37 [==============================] - 0s 2ms/step - loss: 0.0601 - accuracy: 0.9830 - val_loss: 0.7493 - val_accuracy: 0.7891\n",
            "Epoch 60/70\n",
            "37/37 [==============================] - 0s 2ms/step - loss: 0.0601 - accuracy: 0.9813 - val_loss: 0.7628 - val_accuracy: 0.7823\n",
            "Epoch 61/70\n",
            "37/37 [==============================] - 0s 2ms/step - loss: 0.0574 - accuracy: 0.9864 - val_loss: 0.7608 - val_accuracy: 0.7959\n",
            "Epoch 62/70\n",
            "37/37 [==============================] - 0s 2ms/step - loss: 0.0550 - accuracy: 0.9898 - val_loss: 0.7656 - val_accuracy: 0.7891\n",
            "Epoch 63/70\n",
            "37/37 [==============================] - 0s 2ms/step - loss: 0.0532 - accuracy: 0.9864 - val_loss: 0.7816 - val_accuracy: 0.7959\n",
            "Epoch 64/70\n",
            "37/37 [==============================] - 0s 2ms/step - loss: 0.0519 - accuracy: 0.9847 - val_loss: 0.7960 - val_accuracy: 0.7891\n",
            "Epoch 65/70\n",
            "37/37 [==============================] - 0s 2ms/step - loss: 0.0493 - accuracy: 0.9915 - val_loss: 0.8556 - val_accuracy: 0.7823\n",
            "Epoch 66/70\n",
            "37/37 [==============================] - 0s 2ms/step - loss: 0.0540 - accuracy: 0.9847 - val_loss: 0.8515 - val_accuracy: 0.7891\n",
            "Epoch 67/70\n",
            "37/37 [==============================] - 0s 2ms/step - loss: 0.0488 - accuracy: 0.9898 - val_loss: 0.8080 - val_accuracy: 0.7959\n",
            "Epoch 68/70\n",
            "37/37 [==============================] - 0s 2ms/step - loss: 0.0432 - accuracy: 0.9898 - val_loss: 0.8449 - val_accuracy: 0.7891\n",
            "Epoch 69/70\n",
            "37/37 [==============================] - 0s 2ms/step - loss: 0.0426 - accuracy: 0.9915 - val_loss: 0.8294 - val_accuracy: 0.7959\n",
            "Epoch 70/70\n",
            "37/37 [==============================] - 0s 2ms/step - loss: 0.0415 - accuracy: 0.9932 - val_loss: 0.8591 - val_accuracy: 0.7823\n",
            "6/6 [==============================] - 0s 2ms/step - loss: 0.6128 - accuracy: 0.8533\n",
            "Test loss: 0.6127633452415466, Test accuracy: 0.85326087474823\n"
          ]
        }
      ],
      "source": [
        "import pandas as pd\n",
        "import tensorflow as tf\n",
        "from sklearn.model_selection import train_test_split\n",
        "from sklearn.preprocessing import StandardScaler, OneHotEncoder,LabelEncoder\n",
        "from sklearn.compose import ColumnTransformer\n",
        "\n",
        "# Load the dataset\n",
        "data = pd.read_csv('heart.csv')\n",
        "le = LabelEncoder()\n",
        "data['Sex'] = le.fit_transform(data['Sex'])\n",
        "# Split the dataset into features and target\n",
        "X = data.drop('HeartDisease', axis=1)\n",
        "y = data['HeartDisease']\n",
        "\n",
        "# Convert categorical columns using one-hot encoding\n",
        "ct = ColumnTransformer([('encoder', OneHotEncoder(), [2, 6, 8, 10])], remainder='passthrough')\n",
        "X = ct.fit_transform(X)\n",
        "\n",
        "# Split the data into train and test sets\n",
        "X_train, X_test, y_train, y_test = train_test_split(X, y, test_size=0.2, random_state=42)\n",
        "\n",
        "# Scale the features\n",
        "scaler = StandardScaler()\n",
        "X_train = scaler.fit_transform(X_train)\n",
        "X_test = scaler.transform(X_test)\n",
        "\n",
        "# Define the neural network model\n",
        "model = tf.keras.models.Sequential([\n",
        "    tf.keras.layers.Dense(64, activation='relu', input_shape=(X_train.shape[1],)),\n",
        "    tf.keras.layers.Dense(32, activation='relu'),\n",
        "    tf.keras.layers.Dense(1, activation='sigmoid')\n",
        "])\n",
        "\n",
        "# Compile the model\n",
        "model.compile(optimizer='adam', loss='binary_crossentropy', metrics=['accuracy'])\n",
        "\n",
        "# Train the model\n",
        "history = model.fit(X_train, y_train, epochs=70, batch_size=16, validation_split=0.2)\n",
        "\n",
        "# Evaluate the model on the test set\n",
        "test_loss, test_accuracy = model.evaluate(X_test, y_test)\n",
        "print(f'Test loss: {test_loss}, Test accuracy: {test_accuracy}')\n"
      ]
    },
    {
      "cell_type": "code",
      "execution_count": null,
      "id": "672e79e4",
      "metadata": {
        "id": "672e79e4"
      },
      "outputs": [],
      "source": []
    },
    {
      "cell_type": "code",
      "execution_count": null,
      "id": "c567fd0b",
      "metadata": {
        "colab": {
          "base_uri": "https://localhost:8080/"
        },
        "id": "c567fd0b",
        "outputId": "e2911ccf-e364-44be-ebc6-f49a8f4bd438"
      },
      "outputs": [
        {
          "output_type": "stream",
          "name": "stdout",
          "text": [
            "Test set accuracy: 0.8804\n"
          ]
        }
      ],
      "source": [
        "# Import necessary libraries\n",
        "import pandas as pd\n",
        "import numpy as np\n",
        "from sklearn.preprocessing import StandardScaler, OneHotEncoder,LabelEncoder\n",
        "from sklearn.compose import ColumnTransformer\n",
        "from sklearn.ensemble import RandomForestClassifier\n",
        "from sklearn.model_selection import train_test_split\n",
        "from sklearn.metrics import accuracy_score\n",
        "\n",
        "# Load the heart failure prediction dataset\n",
        "df = pd.read_csv('heart.csv')\n",
        "le = LabelEncoder()\n",
        "df['Sex'] = le.fit_transform(df['Sex'])\n",
        "# Separate the features and labels\n",
        "X = df.iloc[:, :-1]\n",
        "y = df.iloc[:, -1]\n",
        "\n",
        "\n",
        "# Convert categorical columns using one-hot encoding\n",
        "ct = ColumnTransformer([('encoder', OneHotEncoder(), [2, 6, 8, 10])], remainder='passthrough')\n",
        "X = ct.fit_transform(X)\n",
        "\n",
        "\n",
        "# Split the dataset into training and testing sets\n",
        "X_train, X_test, y_train, y_test = train_test_split(X, y, test_size=0.2, random_state=42)\n",
        "\n",
        "# Train a random forest classifier\n",
        "rf = RandomForestClassifier(n_estimators=100, random_state=42)\n",
        "rf.fit(X_train, y_train)\n",
        "\n",
        "# Evaluate the model on the test set\n",
        "y_pred = rf.predict(X_test)\n",
        "accuracy = accuracy_score(y_test, y_pred)\n",
        "\n",
        "\n",
        "print(f'Test set accuracy: {accuracy:.4f}')\n"
      ]
    },
    {
      "cell_type": "code",
      "source": [
        "import matplotlib.pyplot as plt\n",
        "print(df.HeartDisease.value_counts())\n",
        "\n",
        "# df['target'].value_counts().plot(kind='bar').set_title('Heart Disease Classes') #Simple plot\n",
        "\n",
        "fig, ax = plt.subplots(figsize=(5,4))\n",
        "name = [\"Disease\", \"No-Disease\"]\n",
        "ax = df.HeartDisease.value_counts().plot(kind='bar')\n",
        "ax.set_title(\"Heart Disease Classes\", fontsize = 13, weight = 'bold')\n",
        "ax.set_xticklabels (name, rotation = 0)\n",
        "\n",
        "# To calculate the percentage\n",
        "totals = []\n",
        "for i in ax.patches:\n",
        "    totals.append(i.get_height())\n",
        "total = sum(totals)\n",
        "for i in ax.patches:\n",
        "    ax.text(i.get_x()+.09, i.get_height()-50, \\\n",
        "            str(round((i.get_height()/total)*100, 2))+'%', fontsize=14,\n",
        "                color='white', weight = 'bold')\n",
        "    \n",
        "plt.tight_layout()"
      ],
      "metadata": {
        "colab": {
          "base_uri": "https://localhost:8080/",
          "height": 461
        },
        "id": "ywHAwzyBFZDo",
        "outputId": "83545e6b-b2a5-4fb0-8726-567ddc2524d2"
      },
      "id": "ywHAwzyBFZDo",
      "execution_count": null,
      "outputs": [
        {
          "output_type": "stream",
          "name": "stdout",
          "text": [
            "1    508\n",
            "0    410\n",
            "Name: HeartDisease, dtype: int64\n"
          ]
        },
        {
          "output_type": "display_data",
          "data": {
            "text/plain": [
              "<Figure size 500x400 with 1 Axes>"
            ],
            "image/png": "[encoded data removed]"
          },
          "metadata": {}
        }
      ]
    },
    {
      "cell_type": "code",
      "source": [
        "import seaborn as sns\n",
        "import matplotlib.pyplot as plt\n",
        "\n",
        "fig, ax = plt.subplots(figsize=(12,5))\n",
        "name = df['Age']\n",
        "ax = sns.countplot(x='Age', hue='HeartDisease', data=df, palette='Set1')\n",
        "ax.set_title(\"Age Distribution according to HeartDisease\", fontsize = 13, weight = 'bold')\n",
        "\n",
        "totals = []\n",
        "for i in ax.patches:\n",
        "    totals.append(i.get_height())\n",
        "total = sum(totals)\n",
        "for i in ax.patches:\n",
        "    ax.text(i.get_x()+.05, i.get_height()-15,\n",
        "            str(round((i.get_height()/total)*100, 2))+'%', fontsize=2,\n",
        "                color='white', weight = 'bold')  \n",
        "plt.tight_layout()\n"
      ],
      "metadata": {
        "colab": {
          "base_uri": "https://localhost:8080/",
          "height": 398
        },
        "id": "sWHUbCX0FZLW",
        "outputId": "bd5ecc90-b5ad-4877-d83f-0cbae365a6ec"
      },
      "id": "sWHUbCX0FZLW",
      "execution_count": null,
      "outputs": [
        {
          "output_type": "display_data",
          "data": {
            "text/plain": [
              "<Figure size 1200x500 with 1 Axes>"
            ],
            "image/png": "[encoded data removed]"
          },
          "metadata": {}
        }
      ]
    },
    {
      "cell_type": "code",
      "source": [
        "from sklearn.neighbors import KNeighborsClassifier\n",
        "from sklearn.svm import SVC\n",
        "from sklearn.linear_model import LogisticRegression\n",
        "from sklearn.ensemble import RandomForestClassifier"
      ],
      "metadata": {
        "id": "fG3kiCNJgmwr"
      },
      "id": "fG3kiCNJgmwr",
      "execution_count": null,
      "outputs": []
    },
    {
      "cell_type": "code",
      "source": [
        "models = []\n",
        "models.append(('KNN', KNeighborsClassifier()))\n",
        "models.append(('SVC', SVC()))\n",
        "models.append(('Logistic Regression', LogisticRegression()))\n",
        "models.append(('Random Forest', RandomForestClassifier()))"
      ],
      "metadata": {
        "id": "G4HIfMkSgo1L"
      },
      "id": "G4HIfMkSgo1L",
      "execution_count": null,
      "outputs": []
    },
    {
      "cell_type": "code",
      "source": [
        "from sklearn.model_selection import train_test_split\n",
        "from sklearn.model_selection import cross_val_score\n",
        "from sklearn.metrics import accuracy_score"
      ],
      "metadata": {
        "id": "rOg8ZmaygvxT"
      },
      "id": "rOg8ZmaygvxT",
      "execution_count": null,
      "outputs": []
    },
    {
      "cell_type": "code",
      "source": [
        "X_train, X_test, y_train, y_test = train_test_split(X, y, stratify = df.HeartDisease, random_state=0)"
      ],
      "metadata": {
        "id": "oD8__5lNgzi2"
      },
      "id": "oD8__5lNgzi2",
      "execution_count": null,
      "outputs": []
    },
    {
      "cell_type": "code",
      "source": [
        "names = []\n",
        "scores = []\n",
        "for name, model in models:\n",
        "    model.fit(X_train, y_train)\n",
        "    y_pred = model.predict(X_test)\n",
        "    scores.append(accuracy_score(y_test, y_pred))\n",
        "    names.append(name)\n",
        "tr_split = pd.DataFrame({'Name': names, 'Score': scores})\n",
        "print(tr_split)\n"
      ],
      "metadata": {
        "colab": {
          "base_uri": "https://localhost:8080/"
        },
        "id": "Brf4tVxAgzln",
        "outputId": "5f983a18-bf66-4d65-f3d2-0f665b3b5e20"
      },
      "id": "Brf4tVxAgzln",
      "execution_count": null,
      "outputs": [
        {
          "output_type": "stream",
          "name": "stderr",
          "text": [
            "/usr/local/lib/python3.9/dist-packages/sklearn/linear_model/_logistic.py:458: ConvergenceWarning: lbfgs failed to converge (status=1):\n",
            "STOP: TOTAL NO. of ITERATIONS REACHED LIMIT.\n",
            "\n",
            "Increase the number of iterations (max_iter) or scale the data as shown in:\n",
            "    https://scikit-learn.org/stable/modules/preprocessing.html\n",
            "Please also refer to the documentation for alternative solver options:\n",
            "    https://scikit-learn.org/stable/modules/linear_model.html#logistic-regression\n",
            "  n_iter_i = _check_optimize_result(\n"
          ]
        },
        {
          "output_type": "stream",
          "name": "stdout",
          "text": [
            "                  Name     Score\n",
            "0                  KNN  0.704348\n",
            "1                  SVC  0.704348\n",
            "2  Logistic Regression  0.856522\n",
            "3        Random Forest  0.882609\n"
          ]
        }
      ]
    },
    {
      "cell_type": "code",
      "source": [
        "from sklearn.model_selection import KFold\n",
        "names = []\n",
        "scores = []\n",
        "for name, model in models:\n",
        "    kfold = KFold(n_splits=10, shuffle=True, random_state=10)\n",
        "    score = cross_val_score(model, X, y, cv=kfold, scoring='accuracy').mean()\n",
        "    \n",
        "    names.append(name)\n",
        "    scores.append(score)\n",
        "kf_cross_val = pd.DataFrame({'Name': names, 'Score': scores})\n",
        "print(kf_cross_val)"
      ],
      "metadata": {
        "colab": {
          "base_uri": "https://localhost:8080/"
        },
        "id": "aQ74xIO7gzoZ",
        "outputId": "3e110271-523b-4fb2-fdd5-9494dd473c2f"
      },
      "id": "aQ74xIO7gzoZ",
      "execution_count": null,
      "outputs": [
        {
          "output_type": "stream",
          "name": "stderr",
          "text": [
            "/usr/local/lib/python3.9/dist-packages/sklearn/linear_model/_logistic.py:458: ConvergenceWarning: lbfgs failed to converge (status=1):\n",
            "STOP: TOTAL NO. of ITERATIONS REACHED LIMIT.\n",
            "\n",
            "Increase the number of iterations (max_iter) or scale the data as shown in:\n",
            "    https://scikit-learn.org/stable/modules/preprocessing.html\n",
            "Please also refer to the documentation for alternative solver options:\n",
            "    https://scikit-learn.org/stable/modules/linear_model.html#logistic-regression\n",
            "  n_iter_i = _check_optimize_result(\n",
            "/usr/local/lib/python3.9/dist-packages/sklearn/linear_model/_logistic.py:458: ConvergenceWarning: lbfgs failed to converge (status=1):\n",
            "STOP: TOTAL NO. of ITERATIONS REACHED LIMIT.\n",
            "\n",
            "Increase the number of iterations (max_iter) or scale the data as shown in:\n",
            "    https://scikit-learn.org/stable/modules/preprocessing.html\n",
            "Please also refer to the documentation for alternative solver options:\n",
            "    https://scikit-learn.org/stable/modules/linear_model.html#logistic-regression\n",
            "  n_iter_i = _check_optimize_result(\n",
            "/usr/local/lib/python3.9/dist-packages/sklearn/linear_model/_logistic.py:458: ConvergenceWarning: lbfgs failed to converge (status=1):\n",
            "STOP: TOTAL NO. of ITERATIONS REACHED LIMIT.\n",
            "\n",
            "Increase the number of iterations (max_iter) or scale the data as shown in:\n",
            "    https://scikit-learn.org/stable/modules/preprocessing.html\n",
            "Please also refer to the documentation for alternative solver options:\n",
            "    https://scikit-learn.org/stable/modules/linear_model.html#logistic-regression\n",
            "  n_iter_i = _check_optimize_result(\n",
            "/usr/local/lib/python3.9/dist-packages/sklearn/linear_model/_logistic.py:458: ConvergenceWarning: lbfgs failed to converge (status=1):\n",
            "STOP: TOTAL NO. of ITERATIONS REACHED LIMIT.\n",
            "\n",
            "Increase the number of iterations (max_iter) or scale the data as shown in:\n",
            "    https://scikit-learn.org/stable/modules/preprocessing.html\n",
            "Please also refer to the documentation for alternative solver options:\n",
            "    https://scikit-learn.org/stable/modules/linear_model.html#logistic-regression\n",
            "  n_iter_i = _check_optimize_result(\n",
            "/usr/local/lib/python3.9/dist-packages/sklearn/linear_model/_logistic.py:458: ConvergenceWarning: lbfgs failed to converge (status=1):\n",
            "STOP: TOTAL NO. of ITERATIONS REACHED LIMIT.\n",
            "\n",
            "Increase the number of iterations (max_iter) or scale the data as shown in:\n",
            "    https://scikit-learn.org/stable/modules/preprocessing.html\n",
            "Please also refer to the documentation for alternative solver options:\n",
            "    https://scikit-learn.org/stable/modules/linear_model.html#logistic-regression\n",
            "  n_iter_i = _check_optimize_result(\n",
            "/usr/local/lib/python3.9/dist-packages/sklearn/linear_model/_logistic.py:458: ConvergenceWarning: lbfgs failed to converge (status=1):\n",
            "STOP: TOTAL NO. of ITERATIONS REACHED LIMIT.\n",
            "\n",
            "Increase the number of iterations (max_iter) or scale the data as shown in:\n",
            "    https://scikit-learn.org/stable/modules/preprocessing.html\n",
            "Please also refer to the documentation for alternative solver options:\n",
            "    https://scikit-learn.org/stable/modules/linear_model.html#logistic-regression\n",
            "  n_iter_i = _check_optimize_result(\n",
            "/usr/local/lib/python3.9/dist-packages/sklearn/linear_model/_logistic.py:458: ConvergenceWarning: lbfgs failed to converge (status=1):\n",
            "STOP: TOTAL NO. of ITERATIONS REACHED LIMIT.\n",
            "\n",
            "Increase the number of iterations (max_iter) or scale the data as shown in:\n",
            "    https://scikit-learn.org/stable/modules/preprocessing.html\n",
            "Please also refer to the documentation for alternative solver options:\n",
            "    https://scikit-learn.org/stable/modules/linear_model.html#logistic-regression\n",
            "  n_iter_i = _check_optimize_result(\n",
            "/usr/local/lib/python3.9/dist-packages/sklearn/linear_model/_logistic.py:458: ConvergenceWarning: lbfgs failed to converge (status=1):\n",
            "STOP: TOTAL NO. of ITERATIONS REACHED LIMIT.\n",
            "\n",
            "Increase the number of iterations (max_iter) or scale the data as shown in:\n",
            "    https://scikit-learn.org/stable/modules/preprocessing.html\n",
            "Please also refer to the documentation for alternative solver options:\n",
            "    https://scikit-learn.org/stable/modules/linear_model.html#logistic-regression\n",
            "  n_iter_i = _check_optimize_result(\n",
            "/usr/local/lib/python3.9/dist-packages/sklearn/linear_model/_logistic.py:458: ConvergenceWarning: lbfgs failed to converge (status=1):\n",
            "STOP: TOTAL NO. of ITERATIONS REACHED LIMIT.\n",
            "\n",
            "Increase the number of iterations (max_iter) or scale the data as shown in:\n",
            "    https://scikit-learn.org/stable/modules/preprocessing.html\n",
            "Please also refer to the documentation for alternative solver options:\n",
            "    https://scikit-learn.org/stable/modules/linear_model.html#logistic-regression\n",
            "  n_iter_i = _check_optimize_result(\n",
            "/usr/local/lib/python3.9/dist-packages/sklearn/linear_model/_logistic.py:458: ConvergenceWarning: lbfgs failed to converge (status=1):\n",
            "STOP: TOTAL NO. of ITERATIONS REACHED LIMIT.\n",
            "\n",
            "Increase the number of iterations (max_iter) or scale the data as shown in:\n",
            "    https://scikit-learn.org/stable/modules/preprocessing.html\n",
            "Please also refer to the documentation for alternative solver options:\n",
            "    https://scikit-learn.org/stable/modules/linear_model.html#logistic-regression\n",
            "  n_iter_i = _check_optimize_result(\n"
          ]
        },
        {
          "output_type": "stream",
          "name": "stdout",
          "text": [
            "                  Name     Score\n",
            "0                  KNN  0.711359\n",
            "1                  SVC  0.718944\n",
            "2  Logistic Regression  0.861598\n",
            "3        Random Forest  0.868144\n"
          ]
        }
      ]
    },
    {
      "cell_type": "code",
      "source": [
        "axis = sns.barplot(x = 'Name', y = 'Score', data = kf_cross_val)\n",
        "axis.set(xlabel='Classifier', ylabel='Accuracy')\n",
        "\n",
        "for p in axis.patches:\n",
        "    height = p.get_height()\n",
        "    axis.text(p.get_x() + p.get_width()/2, height + 0.005, '{:1.4f}'.format(height), ha=\"center\") \n",
        "    \n",
        "axis.set_title(\"Classifier Performance for Heart Disease Dataset\")\n",
        "plt.show()"
      ],
      "metadata": {
        "colab": {
          "base_uri": "https://localhost:8080/",
          "height": 472
        },
        "id": "80I01KNPgzqn",
        "outputId": "801ad66c-93ba-4b5b-e598-347920bc73df"
      },
      "id": "80I01KNPgzqn",
      "execution_count": null,
      "outputs": [
        {
          "output_type": "display_data",
          "data": {
            "text/plain": [
              "<Figure size 640x480 with 1 Axes>"
            ],
            "image/png": "[encoded data removed]"
          },
          "metadata": {}
        }
      ]
    }
  ],
  "metadata": {
    "kernelspec": {
      "display_name": "Python 3 (ipykernel)",
      "language": "python",
      "name": "python3"
    },
    "language_info": {
      "codemirror_mode": {
        "name": "ipython",
        "version": 3
      },
      "file_extension": ".py",
      "mimetype": "text/x-python",
      "name": "python",
      "nbconvert_exporter": "python",
      "pygments_lexer": "ipython3",
      "version": "3.9.13"
    },
    "colab": {
      "provenance": []
    }
  },
  "nbformat": 4,
  "nbformat_minor": 5
}